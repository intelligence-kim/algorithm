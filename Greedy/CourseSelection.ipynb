{
 "cells": [
  {
   "cell_type": "code",
   "execution_count": 60,
   "metadata": {},
   "outputs": [
    {
     "name": "stdout",
     "output_type": "stream",
     "text": [
      "[(2, 3), (4, 5), (6, 8), (9, 10)]\n",
      "[(1, 2), (3, 4), (5, 7), (8, 9)]\n",
      "[(1, 3), (4, 7), (8, 10), (13, 16)]\n"
     ]
    }
   ],
   "source": [
    "def course_selection(course_list):\n",
    "    # 여기에 코드를 작성하세요\n",
    "    start = []\n",
    "    end = []\n",
    "    answer = []\n",
    "    for i,j in course_list:\n",
    "        start.append(i)\n",
    "        end.append(j)\n",
    "    for i in range(len(course_list)):\n",
    "        index_num = end.index(min(end))\n",
    "        if i==0 or start[index_num]>answer[-1][1]: \n",
    "            answer.append((start[index_num],end[index_num]))\n",
    "        start.remove(start[index_num])\n",
    "        end.remove(end[index_num])\n",
    "    return answer\n",
    "        \n",
    "\n",
    "# 테스트 코드\n",
    "print(course_selection([(6, 10), (2, 3), (4, 5), (1, 7), (6, 8), (9, 10)]))\n",
    "print(course_selection([(1, 2), (3, 4), (0, 6), (5, 7), (8, 9), (5, 9)]))\n",
    "print(course_selection([(4, 7), (2, 5), (1, 3), (8, 10), (5, 9), (2, 5), (13, 16), (9, 11), (1, 8)]))\n"
   ]
  },
  {
   "cell_type": "code",
   "execution_count": 59,
   "metadata": {},
   "outputs": [
    {
     "name": "stdout",
     "output_type": "stream",
     "text": [
      "[(2, 3), (4, 5), (6, 8), (9, 10)]\n",
      "[(1, 2), (3, 4), (5, 7), (8, 9)]\n",
      "[(1, 3), (4, 7), (8, 10), (13, 16)]\n"
     ]
    }
   ],
   "source": [
    "def course_selection(course_list):\n",
    "    # 여기에 코드를 작성하세요\n",
    "    sorted_list = sorted(course_list, key=lambda x: x[1])\n",
    "    answer = []\n",
    "    for i in range(len(sorted_list)):\n",
    "        if i==0 or answer[-1][-1]<sorted_list[i][0] :\n",
    "            answer.append(sorted_list[i])\n",
    "    return answer\n",
    "        \n",
    "\n",
    "# 테스트 코드\n",
    "print(course_selection([(6, 10), (2, 3), (4, 5), (1, 7), (6, 8), (9, 10)]))\n",
    "print(course_selection([(1, 2), (3, 4), (0, 6), (5, 7), (8, 9), (5, 9)]))\n",
    "print(course_selection([(4, 7), (2, 5), (1, 3), (8, 10), (5, 9), (2, 5), (13, 16), (9, 11), (1, 8)]))\n"
   ]
  }
 ],
 "metadata": {
  "kernelspec": {
   "display_name": "bert",
   "language": "python",
   "name": "python3"
  },
  "language_info": {
   "codemirror_mode": {
    "name": "ipython",
    "version": 3
   },
   "file_extension": ".py",
   "mimetype": "text/x-python",
   "name": "python",
   "nbconvert_exporter": "python",
   "pygments_lexer": "ipython3",
   "version": "3.9.7"
  }
 },
 "nbformat": 4,
 "nbformat_minor": 2
}

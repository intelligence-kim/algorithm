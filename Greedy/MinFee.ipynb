{
 "cells": [
  {
   "cell_type": "code",
   "execution_count": 2,
   "metadata": {},
   "outputs": [
    {
     "name": "stdout",
     "output_type": "stream",
     "text": [
      "10\n"
     ]
    }
   ],
   "source": [
    "def min_fee(pages_to_print):\n",
    "    # 여기에 코드를 작성하세요\n",
    "    fee = 0\n",
    "    people = len(pages_to_print)\n",
    "    pages_to_print.sort()\n",
    "    for page in pages_to_print:\n",
    "        fee += page*people\n",
    "        people -= 1\n",
    "    return fee\n",
    "\n",
    "# 테스트 코드\n",
    "print(min_fee([6, 11, 4, 1]))\n",
    "print(min_fee([3, 2, 1]))\n",
    "print(min_fee([3, 1, 4, 3, 2]))\n",
    "print(min_fee([8, 4, 2, 3, 9, 23, 6, 8]))\n"
   ]
  }
 ],
 "metadata": {
  "kernelspec": {
   "display_name": "bert",
   "language": "python",
   "name": "python3"
  },
  "language_info": {
   "codemirror_mode": {
    "name": "ipython",
    "version": 3
   },
   "file_extension": ".py",
   "mimetype": "text/x-python",
   "name": "python",
   "nbconvert_exporter": "python",
   "pygments_lexer": "ipython3",
   "version": "3.9.7"
  }
 },
 "nbformat": 4,
 "nbformat_minor": 2
}

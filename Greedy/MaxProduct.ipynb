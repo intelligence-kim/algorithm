{
 "cells": [
  {
   "cell_type": "code",
   "execution_count": 10,
   "metadata": {},
   "outputs": [
    {
     "name": "stdout",
     "output_type": "stream",
     "text": [
      "24\n"
     ]
    }
   ],
   "source": [
    "def max_product(card_lists):\n",
    "    # 여기에 코드를 작성하세요\n",
    "    answer = 1\n",
    "    for i in range(len(card_lists)):\n",
    "        answer *= max(card_lists[i])\n",
    "    return answer\n",
    "\n",
    "# 테스트 코드\n",
    "test_cards1 = [[1, 6, 5], [4, 2, 3]]\n",
    "print(max_product(test_cards1))\n",
    "\n",
    "test_cards2 = [[9, 7, 8], [9, 2, 3], [9, 8, 1], [2, 8, 3], [1, 3, 6], [7, 7, 4]]\n",
    "print(max_product(test_cards2))\n",
    "\n",
    "test_cards3 = [[1, 2, 3], [4, 6, 1], [8, 2, 4], [3, 2, 5], [5, 2, 3], [3, 2, 1]]\n",
    "print(max_product(test_cards3))\n",
    "\n",
    "test_cards4 = [[5, 5, 5], [4, 3, 5], [1, 1, 1], [9, 8, 3], [2, 8, 4], [5, 7, 4]]\n",
    "print(max_product(test_cards4))\n"
   ]
  }
 ],
 "metadata": {
  "kernelspec": {
   "display_name": "bert",
   "language": "python",
   "name": "python3"
  },
  "language_info": {
   "codemirror_mode": {
    "name": "ipython",
    "version": 3
   },
   "file_extension": ".py",
   "mimetype": "text/x-python",
   "name": "python",
   "nbconvert_exporter": "python",
   "pygments_lexer": "ipython3",
   "version": "3.9.7"
  }
 },
 "nbformat": 4,
 "nbformat_minor": 2
}

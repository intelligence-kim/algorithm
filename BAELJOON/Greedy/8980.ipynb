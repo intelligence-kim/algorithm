{
 "cells": [
  {
   "cell_type": "markdown",
   "metadata": {},
   "source": [
    "# [택배](https://www.acmicpc.net/problem/8980)"
   ]
  },
  {
   "cell_type": "code",
   "execution_count": 45,
   "metadata": {},
   "outputs": [],
   "source": [
    "from sys import stdin as s\n",
    "s=open(\"./input_example/8980.txt\",\"rt\") #절대 경로도 되고, 상대 경로도 된다.\n",
    "                                        # r read t text \n",
    "\n",
    "N,C = list(map(int,s.readline().strip().split()))\n",
    "\n",
    "M = int(s.readline().strip())\n",
    "\n",
    "info_list = []\n",
    "for i in range(M):\n",
    "    info_list.append(s.readline().strip().split())"
   ]
  },
  {
   "cell_type": "code",
   "execution_count": null,
   "metadata": {},
   "outputs": [],
   "source": []
  }
 ],
 "metadata": {
  "kernelspec": {
   "display_name": "ml",
   "language": "python",
   "name": "python3"
  },
  "language_info": {
   "codemirror_mode": {
    "name": "ipython",
    "version": 3
   },
   "file_extension": ".py",
   "mimetype": "text/x-python",
   "name": "python",
   "nbconvert_exporter": "python",
   "pygments_lexer": "ipython3",
   "version": "3.6.9"
  }
 },
 "nbformat": 4,
 "nbformat_minor": 2
}

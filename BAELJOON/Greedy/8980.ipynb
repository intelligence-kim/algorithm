{
 "cells": [
  {
   "cell_type": "markdown",
   "metadata": {},
   "source": [
    "# [택배](https://www.acmicpc.net/problem/8980)\n",
    "![image](../../../../다운로드/8980.pdf)\n"
   ]
  },
  {
   "cell_type": "code",
   "execution_count": null,
   "metadata": {},
   "outputs": [],
   "source": [
    "from sys import stdin as s\n",
    "s = open('./input_example/8980,text','rt')\n",
    "N,C = list(map(int,s.readline().strip().split()))\n",
    "M = int(s.readline().strip())\n",
    "infos = []\n",
    "for i in range(M):\n",
    "    infos.append(list(map(s.readline().strip().split())))\n",
    "\n",
    "infos.sort(key=lambda x:x[1])\n",
    "capa = [C]*N\n",
    "answer = 0\n",
    "for start,end,box in infos:\n",
    "    minimum_box = C\n",
    "    for i in range(start,end):\n",
    "        min_value = min(capa[i],box)\n",
    "        if minimum_box > min_value:\n",
    "            minimum_box = min_value\n",
    "            \n",
    "    \n",
    "\n",
    "    "
   ]
  },
  {
   "cell_type": "code",
   "execution_count": 2,
   "metadata": {},
   "outputs": [
    {
     "name": "stdout",
     "output_type": "stream",
     "text": [
      "30\n"
     ]
    }
   ],
   "source": [
    "from sys import stdin as s\n",
    "\n",
    "s=open(\"./input_example/8980.txt\",\"rt\") \n",
    "\n",
    "N,C = list(map(int,s.readline().strip().split()))\n",
    "\n",
    "M = int(s.readline().strip())\n",
    "\n",
    "infos = []\n",
    "for i in range(M):\n",
    "    infos.append(list(map(int,s.readline().strip().split())))\n",
    "infos.sort(key=lambda x :  x[1])\n",
    "\n",
    "capa = [C]*N\n",
    "total = 0\n",
    "for s, r, box in infos:\n",
    "    _min = C\n",
    "    for i in range(s, r):\n",
    "        if _min > min(capa[i], box) :\n",
    "            _min = min(capa[i], box)\n",
    "    for i in range(s, r):\n",
    "        capa[i] -= _min\n",
    "    total += _min\n",
    "    break\n",
    "\n",
    "print(total)\n",
    "\n",
    "\n",
    "\n",
    "\n"
   ]
  },
  {
   "cell_type": "code",
   "execution_count": null,
   "metadata": {},
   "outputs": [],
   "source": []
  }
 ],
 "metadata": {
  "kernelspec": {
   "display_name": "ml",
   "language": "python",
   "name": "python3"
  },
  "language_info": {
   "codemirror_mode": {
    "name": "ipython",
    "version": 3
   },
   "file_extension": ".py",
   "mimetype": "text/x-python",
   "name": "python",
   "nbconvert_exporter": "python",
   "pygments_lexer": "ipython3",
   "version": "3.6.9"
  }
 },
 "nbformat": 4,
 "nbformat_minor": 2
}

{
 "cells": [
  {
   "cell_type": "markdown",
   "metadata": {},
   "source": [
    "# [센서](https://www.acmicpc.net/problem/2212)\n",
    "\n",
    "#### 센서의 개수(N) - 집중국의 개수(K) 만큼 정렬된 좌표간의 거리를 더한다\n",
    "\n",
    "* N-K인 이유\n",
    "\n",
    "If1) N=6, k=2, coordinate=[1,3,6,6,7,9] 일때 [(1,3),(6,6,7,8)]로 묶임 가장 큰 좌표 값의 차이인 3,6의 거리가 필요 없다.\n",
    "\n",
    "IF2) N=6, k=3, coordinate=[1,3,6,6,7,9] 일때 [(1,3),(6,6,7),(9)]로 묶임 가장 큰 거리값(3,6)과 두번째로 큰 거리값(7,9)의 거리가 필요 없다.\n",
    "#### Flow\n",
    "\n",
    "1. 좌표간의 거리 리스트 구하기\n",
    "2. 좌표간 거리 리스트 정렬\n",
    "3. N-K 만큼 좌표간 거리 리스트 합 구하기"
   ]
  },
  {
   "cell_type": "code",
   "execution_count": 54,
   "metadata": {},
   "outputs": [
    {
     "name": "stdout",
     "output_type": "stream",
     "text": [
      "3\n"
     ]
    }
   ],
   "source": [
    "sensor_N = int(input())\n",
    "center_K = int(input())\n",
    "coordinate = list(map(int,input().split()))\n",
    "\n",
    "\n",
    "coordinate.sort()\n",
    "\n",
    "distance_list = []\n",
    "for i in range(len(coordinate)-1):\n",
    "    distance_list.append(coordinate[i+1]-coordinate[i])\n",
    "\n",
    "distance_list.sort()\n",
    "print(sum(distance_list[:sensor_N-center_K]))\n",
    "\n"
   ]
  }
 ],
 "metadata": {
  "kernelspec": {
   "display_name": "ml",
   "language": "python",
   "name": "python3"
  },
  "language_info": {
   "codemirror_mode": {
    "name": "ipython",
    "version": 3
   },
   "file_extension": ".py",
   "mimetype": "text/x-python",
   "name": "python",
   "nbconvert_exporter": "python",
   "pygments_lexer": "ipython3",
   "version": "3.6.9"
  }
 },
 "nbformat": 4,
 "nbformat_minor": 2
}

{
 "cells": [
  {
   "cell_type": "code",
   "execution_count": 154,
   "metadata": {},
   "outputs": [
    {
     "name": "stdout",
     "output_type": "stream",
     "text": [
      "-114\n"
     ]
    }
   ],
   "source": [
    "import re\n",
    "input_str = input()\n",
    "list_value=list(map(int,re.split('[-+]',input_str)))\n",
    "giho = re.findall('[-+]',input_str)\n",
    "\n",
    "input_str=''\n",
    "for i in range(len(giho)):\n",
    "    input_str += str(list_value[i])+giho[i]\n",
    "input_str+=str(list_value[i+1])\n",
    "\n",
    "list_value=list(map(eval,input_str.split('-')))\n",
    "\n",
    "\n",
    "print(list_value[0]-sum(list_value[1:]))\n"
   ]
  }
 ],
 "metadata": {
  "kernelspec": {
   "display_name": "ml",
   "language": "python",
   "name": "python3"
  },
  "language_info": {
   "codemirror_mode": {
    "name": "ipython",
    "version": 3
   },
   "file_extension": ".py",
   "mimetype": "text/x-python",
   "name": "python",
   "nbconvert_exporter": "python",
   "pygments_lexer": "ipython3",
   "version": "3.6.9"
  }
 },
 "nbformat": 4,
 "nbformat_minor": 2
}

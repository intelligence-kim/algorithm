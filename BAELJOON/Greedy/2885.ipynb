{
 "cells": [
  {
   "cell_type": "code",
   "execution_count": 55,
   "metadata": {},
   "outputs": [
    {
     "name": "stdout",
     "output_type": "stream",
     "text": [
      "4 0\n"
     ]
    }
   ],
   "source": [
    "from sys import stdin as s\n",
    "s = open('./input_example/2885.txt',\"rt\")\n",
    "K = int(s.readline().strip())\n",
    "\n",
    "dim = 0\n",
    "answer = 0\n",
    "for i in range(K):\n",
    "    if K<=2**i:\n",
    "        dim = 2**i\n",
    "        break\n",
    "answer_dim = dim\n",
    "while K>0 and dim!=K:\n",
    "    if dim>=K:\n",
    "        dim //= 2\n",
    "        answer += 1\n",
    "        K -= dim\n",
    "print(answer_dim,answer)\n",
    "\n",
    "\n"
   ]
  },
  {
   "cell_type": "code",
   "execution_count": 36,
   "metadata": {},
   "outputs": [
    {
     "data": {
      "text/plain": [
       "1"
      ]
     },
     "execution_count": 36,
     "metadata": {},
     "output_type": "execute_result"
    }
   ],
   "source": [
    "answer_dim"
   ]
  },
  {
   "cell_type": "code",
   "execution_count": 25,
   "metadata": {},
   "outputs": [
    {
     "name": "stdout",
     "output_type": "stream",
     "text": [
      "8 6\n",
      "4 2\n",
      "\n",
      "4 2\n",
      "2 0\n",
      "\n",
      "2\n"
     ]
    }
   ],
   "source": [
    "dim = 0\n",
    "answer = 0\n",
    "for i in range(K):\n",
    "    if K<2**i:\n",
    "        dim = 2**i\n",
    "        break\n",
    "\n",
    "while K>0:\n",
    "    if dim>K:\n",
    "        print(dim,K)\n",
    "        dim //= 2\n",
    "        answer += 1\n",
    "        K -= dim\n",
    "        print(dim,K)\n",
    "        print()\n",
    "print(answer)\n",
    "\n",
    "\n"
   ]
  },
  {
   "cell_type": "code",
   "execution_count": 9,
   "metadata": {},
   "outputs": [
    {
     "data": {
      "text/plain": [
       "0"
      ]
     },
     "execution_count": 9,
     "metadata": {},
     "output_type": "execute_result"
    }
   ],
   "source": [
    "answer"
   ]
  },
  {
   "cell_type": "code",
   "execution_count": null,
   "metadata": {},
   "outputs": [],
   "source": [
    "6\n",
    "8 2\n",
    "4 4\n",
    "4 2 2\n"
   ]
  },
  {
   "cell_type": "code",
   "execution_count": null,
   "metadata": {},
   "outputs": [],
   "source": [
    "12\n",
    "16\n",
    "8 8\n",
    "8 4 4\n"
   ]
  },
  {
   "cell_type": "code",
   "execution_count": 2,
   "metadata": {},
   "outputs": [
    {
     "data": {
      "text/plain": [
       "8"
      ]
     },
     "execution_count": 2,
     "metadata": {},
     "output_type": "execute_result"
    }
   ],
   "source": [
    "2**3"
   ]
  },
  {
   "cell_type": "code",
   "execution_count": 4,
   "metadata": {},
   "outputs": [
    {
     "data": {
      "text/plain": [
       "8"
      ]
     },
     "execution_count": 4,
     "metadata": {},
     "output_type": "execute_result"
    }
   ],
   "source": [
    "dim"
   ]
  },
  {
   "cell_type": "code",
   "execution_count": null,
   "metadata": {},
   "outputs": [],
   "source": []
  }
 ],
 "metadata": {
  "kernelspec": {
   "display_name": "ml",
   "language": "python",
   "name": "python3"
  },
  "language_info": {
   "codemirror_mode": {
    "name": "ipython",
    "version": 3
   },
   "file_extension": ".py",
   "mimetype": "text/x-python",
   "name": "python",
   "nbconvert_exporter": "python",
   "pygments_lexer": "ipython3",
   "version": "3.6.9"
  }
 },
 "nbformat": 4,
 "nbformat_minor": 2
}

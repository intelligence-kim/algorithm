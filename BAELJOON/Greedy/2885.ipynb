{
 "cells": [
  {
   "cell_type": "markdown",
   "metadata": {},
   "source": [
    "[초콜릿 식사](https://www.acmicpc.net/problem/2885)\n",
    "\n",
    "1. [최소 초콜릿 개수]는 주어진 K보다 크거나 같아야한다.\n",
    "2. 따라서 [최소 초콜릿 개수]>=K 때까지 반복하여 [최소 초콜릿 개수]를 구한다.\n",
    "3. 정확히 K의 개수만큼 초콜릿을 나눠야하기 때문에 절반씩 나눠가며 K값을 감소시킨다.\n",
    "    - 이때 K-[나눠진 초콜릿 개수]>=0 조건을 충족해야한다."
   ]
  },
  {
   "cell_type": "code",
   "execution_count": 77,
   "metadata": {},
   "outputs": [
    {
     "name": "stdout",
     "output_type": "stream",
     "text": [
      "4 0\n"
     ]
    }
   ],
   "source": [
    "from sys import stdin as s\n",
    "s = open('./input_example/2885.txt',\"rt\")\n",
    "K = int(s.readline().strip())\n",
    "\n",
    "dim = 1\n",
    "answer = 0\n",
    "while dim<K:\n",
    "    dim = dim<<1\n",
    "\n",
    "answer_dim = dim\n",
    "while K>0 and dim!=K:\n",
    "    dim //= 2\n",
    "    answer += 1\n",
    "    if dim<K:\n",
    "        K -= dim\n",
    "\n",
    "print(answer_dim,answer)\n",
    "\n",
    "\n"
   ]
  }
 ],
 "metadata": {
  "kernelspec": {
   "display_name": "ml",
   "language": "python",
   "name": "python3"
  },
  "language_info": {
   "codemirror_mode": {
    "name": "ipython",
    "version": 3
   },
   "file_extension": ".py",
   "mimetype": "text/x-python",
   "name": "python",
   "nbconvert_exporter": "python",
   "pygments_lexer": "ipython3",
   "version": "3.6.9"
  }
 },
 "nbformat": 4,
 "nbformat_minor": 2
}

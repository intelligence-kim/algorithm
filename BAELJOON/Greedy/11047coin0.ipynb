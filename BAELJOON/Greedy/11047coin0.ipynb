{
 "cells": [
  {
   "cell_type": "markdown",
   "metadata": {},
   "source": [
    "# 그리디 알고리즘\n",
    "1. 가장 큰 동전부터 순차적으로 나누어 동전 개수를 추가해준다.\n",
    "2. 반복문을 돌릴 때 예외적으로 n=1, k=1, coin=1 일때처럼 하나의 동전만 나오는 예외값 주의"
   ]
  },
  {
   "cell_type": "code",
   "execution_count": 120,
   "metadata": {},
   "outputs": [
    {
     "name": "stdout",
     "output_type": "stream",
     "text": [
      "6\n"
     ]
    }
   ],
   "source": [
    "n,k=list(map(int, input().split()))\n",
    "coin = []\n",
    "for i in range(n):\n",
    "    coin.append(int(input()))\n",
    "answer = 0\n",
    "for i in range(n,0,-1):\n",
    "    if k<=0: break\n",
    "    answer += k // coin[i-1]\n",
    "    k %= coin[i-1]\n",
    "print(answer)\n"
   ]
  }
 ],
 "metadata": {
  "kernelspec": {
   "display_name": "ml",
   "language": "python",
   "name": "python3"
  },
  "language_info": {
   "codemirror_mode": {
    "name": "ipython",
    "version": 3
   },
   "file_extension": ".py",
   "mimetype": "text/x-python",
   "name": "python",
   "nbconvert_exporter": "python",
   "pygments_lexer": "ipython3",
   "version": "3.6.9"
  }
 },
 "nbformat": 4,
 "nbformat_minor": 2
}

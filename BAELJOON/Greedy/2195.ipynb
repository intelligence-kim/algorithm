{
 "cells": [
  {
   "cell_type": "markdown",
   "metadata": {},
   "source": [
    "1. 복사할 문자열을 순차대로 크기를 늘려가면서 원본 문자열에 있는지 확인\n",
    "2. 마지막은 정답 카운트가 안되기때문에 한 번 더 조건문으로 체크"
   ]
  },
  {
   "cell_type": "code",
   "execution_count": null,
   "metadata": {},
   "outputs": [],
   "source": [
    "S = input()\n",
    "P = input()\n",
    "\n",
    "\n",
    "start = 0\n",
    "end = 1\n",
    "answer = 0\n",
    "while end<=len(P):\n",
    "    if P[start:end] in S:\n",
    "        end+=1\n",
    "    else:\n",
    "        answer+=1\n",
    "        start=end-1\n",
    "        end=start+1\n",
    "if P[start:end] in S:\n",
    "    print(answer+1)\n",
    "else:\n",
    "    print(answer)"
   ]
  },
  {
   "cell_type": "code",
   "execution_count": null,
   "metadata": {},
   "outputs": [],
   "source": [
    "S = input()\n",
    "P = input()\n",
    "answer = 1\n",
    "tmp = \"\"\n",
    "\n",
    "for i in P:\n",
    "   tmp += i \n",
    "   if S.find(tmp) ==-1:\n",
    "       answer += 1\n",
    "       tmp = i\n",
    "print(answer) "
   ]
  }
 ],
 "metadata": {
  "kernelspec": {
   "display_name": "ml",
   "language": "python",
   "name": "python3"
  },
  "language_info": {
   "codemirror_mode": {
    "name": "ipython",
    "version": 3
   },
   "file_extension": ".py",
   "mimetype": "text/x-python",
   "name": "python",
   "nbconvert_exporter": "python",
   "pygments_lexer": "ipython3",
   "version": "3.6.9"
  }
 },
 "nbformat": 4,
 "nbformat_minor": 2
}

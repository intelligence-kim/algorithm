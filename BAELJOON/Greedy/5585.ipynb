{
 "cells": [
  {
   "cell_type": "markdown",
   "metadata": {},
   "source": [
    "# 거스름돈\n",
    "- 가장 큰 금액부터 순차대로 나누어준다"
   ]
  },
  {
   "cell_type": "code",
   "execution_count": 11,
   "metadata": {},
   "outputs": [],
   "source": [
    "price = int(input())\n",
    "change_list = [500,100,50,10,5,1]\n",
    "change_num = 0\n",
    "price = 1000 - price\n",
    "for change in change_list:\n",
    "    change_num += price//change\n",
    "    price -= change*(price//change)\n",
    "print(change_num)\n"
   ]
  }
 ],
 "metadata": {
  "kernelspec": {
   "display_name": "ml",
   "language": "python",
   "name": "python3"
  },
  "language_info": {
   "codemirror_mode": {
    "name": "ipython",
    "version": 3
   },
   "file_extension": ".py",
   "mimetype": "text/x-python",
   "name": "python",
   "nbconvert_exporter": "python",
   "pygments_lexer": "ipython3",
   "version": "3.6.9"
  }
 },
 "nbformat": 4,
 "nbformat_minor": 2
}

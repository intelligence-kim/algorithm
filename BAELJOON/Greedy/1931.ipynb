{
 "cells": [
  {
   "cell_type": "markdown",
   "metadata": {},
   "source": [
    "1. 회의가 끝나는 시간 순서대로 정렬 단, 중복일때 시작 시간이 빠른 회의순서 먼저 정렬한다.\n",
    "    - [1,3],[4,5],[5,5] 처럼 동시간에 끝나는 회의가 존재할 때 시간이 빠른게 가장 이득\n",
    "2. 첫번째를 넣고 그 후 하나씩 비교하면서 리스트 추가"
   ]
  },
  {
   "cell_type": "code",
   "execution_count": 123,
   "metadata": {},
   "outputs": [
    {
     "name": "stdout",
     "output_type": "stream",
     "text": [
      "3\n"
     ]
    }
   ],
   "source": [
    "I = int(input())\n",
    "room_time = []\n",
    "for i in range(I):\n",
    "    room_time.append(list(map(int, input().split())))\n",
    "\n",
    "sort_list = sorted(room_time, key=lambda x:[x[1],x[0]])\n",
    "\n",
    "answer = []\n",
    "for i in range(len(sort_list)):\n",
    "    if i==0 or answer[-1][-1]<=sort_list[i][0]:\n",
    "        answer.append(sort_list[i])\n",
    "\n",
    "print(len(answer))\n",
    "\n",
    "\n"
   ]
  }
 ],
 "metadata": {
  "kernelspec": {
   "display_name": "ml",
   "language": "python",
   "name": "python3"
  },
  "language_info": {
   "codemirror_mode": {
    "name": "ipython",
    "version": 3
   },
   "file_extension": ".py",
   "mimetype": "text/x-python",
   "name": "python",
   "nbconvert_exporter": "python",
   "pygments_lexer": "ipython3",
   "version": "3.6.9"
  }
 },
 "nbformat": 4,
 "nbformat_minor": 2
}

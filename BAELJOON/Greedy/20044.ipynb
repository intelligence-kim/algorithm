{
 "cells": [
  {
   "cell_type": "markdown",
   "metadata": {},
   "source": [
    "# Project Teams\n",
    "- 최대값+최소값의 값을 정답 리스트에 하나씩 넣는다."
   ]
  },
  {
   "cell_type": "code",
   "execution_count": 16,
   "metadata": {},
   "outputs": [
    {
     "name": "stdout",
     "output_type": "stream",
     "text": [
      "8\n"
     ]
    }
   ],
   "source": [
    "team_num = int(input())\n",
    "student_value = list(map(int,input().split()))\n",
    "\n",
    "answer = []\n",
    "for i in range(team_num):\n",
    "    num1 = max(student_value)\n",
    "    student_value.remove(num1)\n",
    "    num2 = min(student_value)\n",
    "    student_value.remove(num2)\n",
    "    answer.append(num1+num2)\n",
    "print(min(answer))\n",
    "    "
   ]
  }
 ],
 "metadata": {
  "kernelspec": {
   "display_name": "ml",
   "language": "python",
   "name": "python3"
  },
  "language_info": {
   "codemirror_mode": {
    "name": "ipython",
    "version": 3
   },
   "file_extension": ".py",
   "mimetype": "text/x-python",
   "name": "python",
   "nbconvert_exporter": "python",
   "pygments_lexer": "ipython3",
   "version": "3.6.9"
  }
 },
 "nbformat": 4,
 "nbformat_minor": 2
}

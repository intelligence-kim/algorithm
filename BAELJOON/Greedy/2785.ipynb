{
 "cells": [
  {
   "cell_type": "markdown",
   "metadata": {},
   "source": [
    "# [체인](https://www.acmicpc.net/problem/2785)\n",
    "\n",
    "1. chain을 오름차순 정렬한다. -> 고리의 개수가 적은거부터 묶어야 최소로 묶을 수 있다. 왜냐하면 고리를 다 쓰면 하나를 덜 묶어도 되니까\n",
    "2. 주어진 N 이상만큼은 묶일 수 없다. (N=3, 2,2,2 일때 고리는 최대 2번만 묶인다.)\n",
    "3. 따라서 고리의 개수 + 체인의 개수 합이 N값을 넘어설 수 없다.\n",
    "4. 오름차순된 chain을 반복문을 돌면서 gori(현재 묶은 수)+chain(현재 chain의 값)이 N을 넘어서는지 확인\n",
    "5. N을 1씩 빼준다. "
   ]
  },
  {
   "cell_type": "code",
   "execution_count": 145,
   "metadata": {},
   "outputs": [
    {
     "name": "stdout",
     "output_type": "stream",
     "text": [
      "4\n"
     ]
    }
   ],
   "source": [
    "from sys import stdin as s\n",
    "s = open(\"./input_example/2785.txt\",\"rt\")\n",
    "N = int(s.readline().strip())\n",
    "chain = list(map(int,s.readline().strip().split()))\n",
    "chain.sort(reverse=False)\n",
    "\n",
    "answer = 0\n",
    "peak = N-1\n",
    "for i in range(N):\n",
    "    for j in range(chain[i]):\n",
    "        if peak==i: break\n",
    "        answer += 1\n",
    "        peak -= 1\n",
    "    if peak==i: break\n",
    "print(answer)\n",
    "\n",
    "            "
   ]
  },
  {
   "cell_type": "code",
   "execution_count": 147,
   "metadata": {},
   "outputs": [
    {
     "name": "stdout",
     "output_type": "stream",
     "text": [
      "4\n"
     ]
    }
   ],
   "source": [
    "from sys import stdin as s\n",
    "s = open(\"./input_example/2785.txt\",\"rt\")\n",
    "N = int(s.readline().strip())\n",
    "chain = list(map(int,s.readline().strip().split()))\n",
    "chain.sort(reverse=False)\n",
    "\n",
    "gori = 1\n",
    "for c in chain:\n",
    "    if gori+c>=N:\n",
    "        break\n",
    "    N -= 1\n",
    "    gori += c\n",
    "\n",
    "print(N-1)\n",
    "\n",
    "            "
   ]
  }
 ],
 "metadata": {
  "kernelspec": {
   "display_name": "ml",
   "language": "python",
   "name": "python3"
  },
  "language_info": {
   "codemirror_mode": {
    "name": "ipython",
    "version": 3
   },
   "file_extension": ".py",
   "mimetype": "text/x-python",
   "name": "python",
   "nbconvert_exporter": "python",
   "pygments_lexer": "ipython3",
   "version": "3.6.9"
  }
 },
 "nbformat": 4,
 "nbformat_minor": 2
}

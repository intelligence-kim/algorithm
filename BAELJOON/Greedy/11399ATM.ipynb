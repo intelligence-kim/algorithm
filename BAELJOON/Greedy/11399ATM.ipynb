{
 "cells": [
  {
   "cell_type": "markdown",
   "metadata": {},
   "source": [
    "# 그리디 알고리즘\n",
    "1. 리스트를 정렬 후 각 단계 전까지의 합을 계속해서 더해준다."
   ]
  },
  {
   "cell_type": "code",
   "execution_count": 25,
   "metadata": {},
   "outputs": [
    {
     "name": "stdout",
     "output_type": "stream",
     "text": [
      "32\n"
     ]
    }
   ],
   "source": [
    "answer = 0\n",
    "N = int(input())\n",
    "P = list(map(int,input().split()))\n",
    "P.sort()\n",
    "\n",
    "for i in range(N):\n",
    "    answer+=sum(P[:i+1])\n",
    "print(answer)\n"
   ]
  }
 ],
 "metadata": {
  "kernelspec": {
   "display_name": "ml",
   "language": "python",
   "name": "python3"
  },
  "language_info": {
   "codemirror_mode": {
    "name": "ipython",
    "version": 3
   },
   "file_extension": ".py",
   "mimetype": "text/x-python",
   "name": "python",
   "nbconvert_exporter": "python",
   "pygments_lexer": "ipython3",
   "version": "3.6.9"
  }
 },
 "nbformat": 4,
 "nbformat_minor": 2
}

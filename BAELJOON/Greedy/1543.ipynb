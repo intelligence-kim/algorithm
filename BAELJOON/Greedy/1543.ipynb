{
 "cells": [
  {
   "cell_type": "markdown",
   "metadata": {},
   "source": [
    "# [문서 검색](https://www.acmicpc.net/problem/1543)\n",
    "\n",
    "1. 일치하는 문자열이 존재할때 해당 문자열만큼 잘라내는 것을 반복한다."
   ]
  },
  {
   "cell_type": "code",
   "execution_count": null,
   "metadata": {},
   "outputs": [],
   "source": [
    "doc = input()\n",
    "find_doc = input()\n",
    "\n",
    "answer = 0\n",
    "while True:\n",
    "    if find_doc in doc:\n",
    "        find_index = doc.find(find_doc)\n",
    "        doc = doc.replace(doc,doc[find_index+len(find_doc):])\n",
    "        answer+=1\n",
    "    else:\n",
    "        break\n",
    "print(answer)"
   ]
  }
 ],
 "metadata": {
  "kernelspec": {
   "display_name": "ml",
   "language": "python",
   "name": "python3"
  },
  "language_info": {
   "codemirror_mode": {
    "name": "ipython",
    "version": 3
   },
   "file_extension": ".py",
   "mimetype": "text/x-python",
   "name": "python",
   "nbconvert_exporter": "python",
   "pygments_lexer": "ipython3",
   "version": "3.6.9"
  }
 },
 "nbformat": 4,
 "nbformat_minor": 2
}

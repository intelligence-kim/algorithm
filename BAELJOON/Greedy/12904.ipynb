{
 "cells": [
  {
   "cell_type": "markdown",
   "metadata": {},
   "source": [
    "# [A와 B](https://www.acmicpc.net/problem/12904)\n",
    "\n",
    "1. 문자열 S -> 문자열 T로 변경하기 위해서는 반대로 T->S를 변경한다는 아이디어로 시작\n",
    "2. 문자열의 개수가 맞을때까지 문자열 T를 끝부터 하나씩 제거 (조건과 완전히 반대되는 방법으로)"
   ]
  },
  {
   "cell_type": "code",
   "execution_count": null,
   "metadata": {},
   "outputs": [],
   "source": [
    "S = input().upper()\n",
    "T = input().upper()\n",
    "\n",
    "while True:\n",
    "    if len(S)==len(T):\n",
    "        if S==T:\n",
    "            print('1')\n",
    "        else:\n",
    "            print('0')\n",
    "        break\n",
    "    else:\n",
    "        if T[-1]=='A':\n",
    "            T = T.replace(T,T[:-1])\n",
    "        else:\n",
    "            T = T.replace(T,T[:-1])\n",
    "            T = T[::-1]\n"
   ]
  }
 ],
 "metadata": {
  "kernelspec": {
   "display_name": "ml",
   "language": "python",
   "name": "python3"
  },
  "language_info": {
   "codemirror_mode": {
    "name": "ipython",
    "version": 3
   },
   "file_extension": ".py",
   "mimetype": "text/x-python",
   "name": "python",
   "nbconvert_exporter": "python",
   "pygments_lexer": "ipython3",
   "version": "3.6.9"
  }
 },
 "nbformat": 4,
 "nbformat_minor": 2
}

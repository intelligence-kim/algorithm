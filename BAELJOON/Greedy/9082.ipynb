{
 "cells": [
  {
   "cell_type": "markdown",
   "metadata": {},
   "source": [
    "# [지뢰찾기](https://www.acmicpc.net/problem/9082)\n",
    "\n",
    "\n",
    "1. 지뢰의 개수가 적혀진 리스트에서 첫번째, 중간, 끝 3개의 섹션을 나누어 지뢰의 개수를 줄인다는 기본 아이디어가 필요\n",
    "\n",
    "2. **첫번째 섹션**에서는 **[현재,현재+1]** 인덱스의 값이 0이 아니면 지뢰가 있다는 의미이기 때문에 정답의 수를 1개 늘리고 각각의 지뢰값을 감소\n",
    "\n",
    "3. **마지막 섹션**에서는 **[현재-1,현재]** 인덱스의 값이 0이 아니면 지뢰가 있다는 의미이기 때문에 정답의 수를 1개 늘리고 각각의 지뢰값을 감소\n",
    "\n",
    "4. **중간 섹션**에서는 **[현재-1,현재,현재+1]** 인덱스의 값이 0이 아니면 지뢰가 있다는 의미이기 때문에 정답의 수를 1개 늘리고 각각의 지뢰값을 감소"
   ]
  },
  {
   "cell_type": "code",
   "execution_count": 151,
   "metadata": {},
   "outputs": [
    {
     "name": "stdout",
     "output_type": "stream",
     "text": [
      "7\n"
     ]
    }
   ],
   "source": [
    "test_case = int(input())\n",
    "\n",
    "for i in range(test_case):\n",
    "    array_size = int(input())\n",
    "    row1 = list(map(int,input()))\n",
    "    row2 = input()\n",
    "\n",
    "    answer = 0\n",
    "    row2=list(row2)\n",
    "    for n in range(array_size):\n",
    "        if n==0:\n",
    "            if row1[n]!=0 and row1[n+1]!=0:\n",
    "                row1[n]-=1\n",
    "                row1[n+1]-=1\n",
    "                answer+=1\n",
    "\n",
    "        elif n==array_size-1:\n",
    "            if row1[n]!=0 and row1[n-1]!=0:\n",
    "                row1[n]-=1\n",
    "                row1[n-1]-=1\n",
    "                answer+=1\n",
    "        else:\n",
    "            if row1[n-1]!=0 and row1[n]!=0 and row1[n+1]!=0:\n",
    "                row1[n-1]-=1\n",
    "                row1[n]-=1\n",
    "                row1[n+1]-=1\n",
    "                answer+=1\n",
    "\n",
    "    print(answer)"
   ]
  }
 ],
 "metadata": {
  "kernelspec": {
   "display_name": "ml",
   "language": "python",
   "name": "python3"
  },
  "language_info": {
   "codemirror_mode": {
    "name": "ipython",
    "version": 3
   },
   "file_extension": ".py",
   "mimetype": "text/x-python",
   "name": "python",
   "nbconvert_exporter": "python",
   "pygments_lexer": "ipython3",
   "version": "3.6.9"
  }
 },
 "nbformat": 4,
 "nbformat_minor": 2
}

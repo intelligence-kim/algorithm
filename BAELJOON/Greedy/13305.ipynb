{
 "cells": [
  {
   "cell_type": "code",
   "execution_count": null,
   "metadata": {},
   "outputs": [],
   "source": [
    "N = int(input())\n",
    "length = list(map(int,input().split()))\n",
    "cost = list(map(int,input().split()))\n",
    "\n",
    "cost_order = cost[:-1].copy()\n",
    "cost_order.sort()\n",
    "answer = 0\n",
    "temp_cost = cost[0]\n",
    "for i in range(len(length)):\n",
    "    order_ = cost_order.index(cost[i])\n",
    "    if order_ != 0:\n",
    "        if cost_order.index(temp_cost) > cost_order.index(cost[i]):\n",
    "            temp_cost = cost[i]\n",
    "        answer += temp_cost*length[i]\n",
    "\n",
    "    else:\n",
    "        answer += cost[i]*sum(length[i:])\n",
    "        break\n",
    "\n",
    "print(answer)"
   ]
  },
  {
   "cell_type": "code",
   "execution_count": null,
   "metadata": {},
   "outputs": [],
   "source": [
    "N = int(input())\n",
    "length = list(map(int,input().split()))\n",
    "cost = list(map(int,input().split()))\n",
    "\n",
    "cost_order = cost[:-1].copy()\n",
    "cost_order.sort()\n",
    "answer=0\n",
    "for min_value in cost_order:\n",
    "    if cost.count(min_value):\n",
    "        min_index = cost.index(min_value)\n",
    "        answer += cost[min_index]*sum(length[min_index:])\n",
    "        cost = cost[:min_index]\n",
    "        length = length[:min_index]\n",
    "print(answer)\n"
   ]
  },
  {
   "cell_type": "code",
   "execution_count": null,
   "metadata": {},
   "outputs": [],
   "source": [
    "N = int(input())\n",
    "length = list(map(int,input().split()))\n",
    "cost = list(map(int,input().split()))\n",
    "\n",
    "cost_order = cost[:-1].copy()\n",
    "cost_order.sort()\n",
    "answer=0\n",
    "while len(cost_order)!=0:\n",
    "    min_index = cost.index(cost_order[0])\n",
    "    answer += cost[min_index]*sum(length[min_index:])\n",
    "    cost = cost[:min_index]\n",
    "    length = length[:min_index]\n",
    "    cost_order = cost.copy()\n",
    "    cost_order.sort()\n",
    "\n",
    "print(answer)\n"
   ]
  },
  {
   "cell_type": "code",
   "execution_count": null,
   "metadata": {},
   "outputs": [],
   "source": [
    "N = int(input())\n",
    "length = list(map(int,input().split()))\n",
    "cost = list(map(int,input().split()))\n",
    "answer=0\n",
    "\n",
    "while len(cost)!=0:\n",
    "    min_index = cost.index(min(cost))\n",
    "    answer += cost[min_index]*sum(length[min_index:])\n",
    "    cost = cost[:min_index]\n",
    "    length = length[:min_index]\n",
    "print(answer)"
   ]
  },
  {
   "cell_type": "markdown",
   "metadata": {},
   "source": [
    "# 정답\n",
    "1. index함수 안에 min함수가 들어가있을 경우 O(n^2)이 되는 것 같음\n",
    "2. 그렇기 때문에 차라리 하나하나 인덱스를 도는게 더 최적의 정답"
   ]
  },
  {
   "cell_type": "code",
   "execution_count": null,
   "metadata": {},
   "outputs": [],
   "source": [
    "N = int(input())\n",
    "length = list(map(int,input().split()))\n",
    "cost = list(map(int,input().split()))\n",
    "\n",
    "answer=cost[0]*length[0]\n",
    "price = cost[0]\n",
    "\n",
    "for i in range(1,N-1):\n",
    "    price = min(price,cost[i])\n",
    "    answer += price*length[i]\n",
    "print(answer)"
   ]
  }
 ],
 "metadata": {
  "kernelspec": {
   "display_name": "ml",
   "language": "python",
   "name": "python3"
  },
  "language_info": {
   "codemirror_mode": {
    "name": "ipython",
    "version": 3
   },
   "file_extension": ".py",
   "mimetype": "text/x-python",
   "name": "python",
   "nbconvert_exporter": "python",
   "pygments_lexer": "ipython3",
   "version": "3.6.9"
  }
 },
 "nbformat": 4,
 "nbformat_minor": 2
}

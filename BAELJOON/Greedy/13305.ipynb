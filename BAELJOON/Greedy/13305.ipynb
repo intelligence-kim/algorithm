{
 "cells": [
  {
   "cell_type": "code",
   "execution_count": 1,
   "metadata": {},
   "outputs": [],
   "source": [
    "N = int(input())\n",
    "length = list(map(int,input().split()))\n",
    "cost = list(map(int,input().split()))\n",
    "\n",
    "cost_order = cost[:-1].copy()\n",
    "cost_order.sort()\n",
    "answer = 0\n",
    "for i in range(len(length)):\n",
    "    order_ = cost_order.index(cost[i])\n",
    "    if order_ != 0:\n",
    "        answer += cost[i]*length[i]\n",
    "    else:\n",
    "        answer += cost[i]*sum(length[i:])\n",
    "        break\n",
    "\n",
    "print(answer)\n"
   ]
  },
  {
   "cell_type": "code",
   "execution_count": 31,
   "metadata": {},
   "outputs": [
    {
     "name": "stdout",
     "output_type": "stream",
     "text": [
      "if=10\n",
      "18\n"
     ]
    }
   ],
   "source": [
    "N = 4\n",
    "length = [2,3,1]\n",
    "cost = [5,2,4,1]\n",
    "cost_order = cost[:-1].copy()\n",
    "cost_order.sort()\n",
    "answer = 0\n",
    "for i in range(len(length)):\n",
    "    order_ = cost_order.index(cost[i])\n",
    "    if order_ != 0:\n",
    "        answer += cost[i]*length[i]\n",
    "    else:\n",
    "        answer += cost[i]*sum(length[i:])\n",
    "        break\n",
    "\n",
    "print(answer)\n",
    "\n",
    "\n"
   ]
  },
  {
   "cell_type": "code",
   "execution_count": 35,
   "metadata": {},
   "outputs": [
    {
     "name": "stdout",
     "output_type": "stream",
     "text": [
      "23\n"
     ]
    }
   ],
   "source": [
    "N = 4\n",
    "length = [3,2,1]\n",
    "cost = [5,3,2,1]\n",
    "cost_order = cost[:-1].copy()\n",
    "cost_order.sort()\n",
    "answer = 0\n",
    "for i in range(len(length)):\n",
    "    order_ = cost_order.index(cost[i])\n",
    "    if order_ != 0:\n",
    "        answer += cost[i]*length[i]\n",
    "    else:\n",
    "        answer += cost[i]*sum(length[i:])\n",
    "        break\n",
    "\n",
    "print(answer)\n",
    "\n",
    "\n"
   ]
  },
  {
   "cell_type": "code",
   "execution_count": 36,
   "metadata": {},
   "outputs": [
    {
     "data": {
      "text/plain": [
       "23"
      ]
     },
     "execution_count": 36,
     "metadata": {},
     "output_type": "execute_result"
    }
   ],
   "source": [
    "15+6+2"
   ]
  },
  {
   "cell_type": "code",
   "execution_count": 26,
   "metadata": {},
   "outputs": [
    {
     "data": {
      "text/plain": [
       "[2, 4, 5]"
      ]
     },
     "execution_count": 26,
     "metadata": {},
     "output_type": "execute_result"
    }
   ],
   "source": [
    "cost_order"
   ]
  },
  {
   "cell_type": "code",
   "execution_count": 28,
   "metadata": {},
   "outputs": [
    {
     "data": {
      "text/plain": [
       "2"
      ]
     },
     "execution_count": 28,
     "metadata": {},
     "output_type": "execute_result"
    }
   ],
   "source": [
    "cost_order.index(cost[0])"
   ]
  },
  {
   "cell_type": "code",
   "execution_count": null,
   "metadata": {},
   "outputs": [],
   "source": []
  }
 ],
 "metadata": {
  "kernelspec": {
   "display_name": "ml",
   "language": "python",
   "name": "python3"
  },
  "language_info": {
   "codemirror_mode": {
    "name": "ipython",
    "version": 3
   },
   "file_extension": ".py",
   "mimetype": "text/x-python",
   "name": "python",
   "nbconvert_exporter": "python",
   "pygments_lexer": "ipython3",
   "version": "3.6.9"
  }
 },
 "nbformat": 4,
 "nbformat_minor": 2
}

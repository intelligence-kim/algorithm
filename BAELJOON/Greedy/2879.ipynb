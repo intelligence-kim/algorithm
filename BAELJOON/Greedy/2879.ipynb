{
 "cells": [
  {
   "cell_type": "markdown",
   "metadata": {},
   "source": [
    "# [코딩은 예쁘게](https://www.acmicpc.net/problem/2879)\n",
    "\n",
    "- 1번부터 i번까지의 최소 인덴트 횟수를 DP[i]라고 두고, i번째 올바른 탭과 현재 탭의 차를 diff[i]라고 두자.  \n",
    "  우리는 i+1번째 줄과 목표가 주어졌을때, 이 최소 편집 횟수를 어떻게 업데이트할지 궁금하다.\n",
    " \n",
    "\n",
    "1. diff[i]와 diff[i+1]의 부호가 다를 경우 : 이 경우는 앞선 최소 편집 횟수와 교집합이 발생할 수 없다(방향이 다르기 때문)  \n",
    "   즉 i+1번째 줄에 대해서만 탭 조정을 시행해야 한다. 따라서 DP[i+1] = DP[i] + abs(diff[i+1])을 만족한다.\n",
    "\n",
    "2. diff[i]와 diff[i+1]의 부호가 같을 경우 : 이 경우는 i번째 줄 조정 작업에 i+1번째 줄 조정이 포함될 수 있음을 의미한다. 이 경우는 다음과 같은 두 가지 상황이 있을 수 있다.\n",
    "\n",
    "    - abs(diff[i]) <= abs(diff[i+1]) : 즉 i번째까지의 줄 조정에 더해 i+1번째는 추가적인 줄 조정을 요구하는 상황이다.  \n",
    "      따라서 DP[i+1] = DP[i] + abs(diff[i+1]) - abs(diff[i]) 가 된다.\n",
    "    - abs(diff[i]) > abs(diff[i+1]) : i+1번째 줄 조정 작업이 이전 작업에 완전히 포함될 수 있으므로, 이 작업은 무시되어도 된다.  \n",
    "      따라서 DP[i+1] = DP[i] 가 된다.\n",
    "    - 위 두 작업을 한 수식으로 합치면, DP[i+1] = DP[i] + max(0, abs(diff[i+1]) - abs(diff[i])) 로 나타낼 수 있겠다.  \n",
    "    \n",
    "출처: https://magentino.tistory.com/240"
   ]
  },
  {
   "cell_type": "code",
   "execution_count": 6,
   "metadata": {},
   "outputs": [
    {
     "name": "stdout",
     "output_type": "stream",
     "text": [
      "최종 탭 - 현재 탭 : [4, 2, 1, 2, 1]\n",
      "answer_list :  [4, 0, 0, 0, 0]\n",
      "2 4\n",
      "answer_list :  [4, 4, 0, 0, 0]\n",
      "1 2\n",
      "answer_list :  [4, 4, 4, 0, 0]\n",
      "2 1\n",
      "answer_list :  [4, 4, 4, 5, 0]\n",
      "1 2\n",
      "5\n"
     ]
    }
   ],
   "source": [
    "from sys import stdin as s\n",
    "s = open(\"./input_example/2879.txt\",\"rt\")\n",
    "N = int(s.readline().strip())\n",
    "p_tab = list(map(int,s.readline().strip().split()))\n",
    "r_tab = list(map(int,s.readline().strip().split()))\n",
    "\n",
    "diff_list = [ r_tab[i] - p_tab[i] for i in range(N) ]\n",
    "answer_list = [0]*N\n",
    "answer_list[0] = abs(diff_list[0])\n",
    "print('최종 탭 - 현재 탭 :',diff_list)\n",
    "for i in range(1, N) :\n",
    "  print('answer_list : ',answer_list)\n",
    "  print(diff_list[i],diff_list[i-1])\n",
    "  if diff_list[i] * diff_list[i-1] > 0 :\n",
    "    answer_list[i] = answer_list[i-1] + max(0, abs(diff_list[i]) - abs(diff_list[i-1]))\n",
    "  else :\n",
    "    answer_list[i] = answer_list[i-1] + abs(diff_list[i])\n",
    "\n",
    "print(answer_list[-1])\n",
    "\n",
    "\n",
    "\n"
   ]
  },
  {
   "cell_type": "code",
   "execution_count": null,
   "metadata": {},
   "outputs": [],
   "source": []
  }
 ],
 "metadata": {
  "kernelspec": {
   "display_name": "ml",
   "language": "python",
   "name": "python3"
  },
  "language_info": {
   "codemirror_mode": {
    "name": "ipython",
    "version": 3
   },
   "file_extension": ".py",
   "mimetype": "text/x-python",
   "name": "python",
   "nbconvert_exporter": "python",
   "pygments_lexer": "ipython3",
   "version": "3.6.9"
  }
 },
 "nbformat": 4,
 "nbformat_minor": 2
}

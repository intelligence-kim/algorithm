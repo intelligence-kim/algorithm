{
 "cells": [
  {
   "cell_type": "markdown",
   "metadata": {},
   "source": [
    "# [코딩은 예쁘게](https://www.acmicpc.net/problem/2879)"
   ]
  },
  {
   "cell_type": "code",
   "execution_count": 4,
   "metadata": {},
   "outputs": [
    {
     "name": "stdout",
     "output_type": "stream",
     "text": [
      "3 [3, 4, 5] [6, 7, 8]\n"
     ]
    }
   ],
   "source": [
    "from sys import stdin as s\n",
    "s = open(\"./input_example/2879.txt\",\"rt\")\n",
    "N = int(s.readline().strip())\n",
    "p_tab = list(map(int,s.readline().strip().split()))\n",
    "r_tab = list(map(int,s.readline().strip().split()))\n",
    "print(N,p_tab,r_tab)"
   ]
  },
  {
   "cell_type": "code",
   "execution_count": null,
   "metadata": {},
   "outputs": [],
   "source": []
  }
 ],
 "metadata": {
  "kernelspec": {
   "display_name": "ml",
   "language": "python",
   "name": "python3"
  },
  "language_info": {
   "codemirror_mode": {
    "name": "ipython",
    "version": 3
   },
   "file_extension": ".py",
   "mimetype": "text/x-python",
   "name": "python",
   "nbconvert_exporter": "python",
   "pygments_lexer": "ipython3",
   "version": "3.6.9"
  }
 },
 "nbformat": 4,
 "nbformat_minor": 2
}

{
 "cells": [
  {
   "cell_type": "markdown",
   "metadata": {},
   "source": [
    "# [도서관](https://www.acmicpc.net/problem/1461)\n",
    "1. 음수와 양수를 나눠서 두 리스트에 저장\n",
    "2. 각각 오름차순으로 정렬 -> 가장 먼 책부터 갖다 놓는 것이 최소 걸음 보장이 된다.  \n",
    "왜냐하면 반복문을 돌 때 1->3->5로 가게되면 못놓는 책이 존재하지만 5->3->1로 가게되면 책을 전부 놓을 수 있다.  \n",
    "5->(4)->3/answer+=5+5 의미 자체가 5를 가면서 4에도 책을 두고왔다는 의미  \n",
    "1->(2)->3/answer+=1+1 의미는 애초에 의미가 성립되지 않는다.\n",
    "3. 가장 큰 값을 마지막에 빼준다. -> 마지막에 책을 두고는 되돌아오지 않아도 되니까"
   ]
  },
  {
   "cell_type": "code",
   "execution_count": 46,
   "metadata": {},
   "outputs": [
    {
     "name": "stdout",
     "output_type": "stream",
     "text": [
      "131\n"
     ]
    }
   ],
   "source": [
    "from sys import stdin as s\n",
    "s = open(\"./input_example/1461.txt\",\"rt\")\n",
    "N, M = list(map(int,s.readline().strip().split()))\n",
    "pos = list(map(int, s.readline().strip().split()))\n",
    "\n",
    "answer=0\n",
    "\n",
    "p_pos=[]\n",
    "n_pos=[]\n",
    "last=0\n",
    "for b in pos:\n",
    "    last = max(abs(b),last)\n",
    "    if b>0:\n",
    "        p_pos.append(b)\n",
    "    else:\n",
    "        n_pos.append(abs(b))\n",
    "p_pos.sort(reverse = True) \n",
    "n_pos.sort(reverse = True)\n",
    "\n",
    "for i in range(0,len(p_pos),M):\n",
    "    answer += p_pos[i]*2\n",
    "\n",
    "for i in range(0,len(n_pos),M):\n",
    "    answer += n_pos[i]*2\n",
    "\n",
    "print(answer-last)"
   ]
  }
 ],
 "metadata": {
  "kernelspec": {
   "display_name": "ml",
   "language": "python",
   "name": "python3"
  },
  "language_info": {
   "codemirror_mode": {
    "name": "ipython",
    "version": 3
   },
   "file_extension": ".py",
   "mimetype": "text/x-python",
   "name": "python",
   "nbconvert_exporter": "python",
   "pygments_lexer": "ipython3",
   "version": "3.6.9"
  }
 },
 "nbformat": 4,
 "nbformat_minor": 2
}

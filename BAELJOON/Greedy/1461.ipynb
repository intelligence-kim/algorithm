{
 "cells": [
  {
   "cell_type": "code",
   "execution_count": 7,
   "metadata": {},
   "outputs": [
    {
     "name": "stdout",
     "output_type": "stream",
     "text": [
      "130\n"
     ]
    }
   ],
   "source": [
    "from sys import stdin as s\n",
    "s = open(\"./input_example/1461.txt\",\"rt\")\n",
    "N, M = list(map(int,s.readline().strip().split()))\n",
    "pos = list(map(int, s.readline().strip().split()))\n",
    "\n",
    "answer=0\n",
    "\n",
    "p_pos=[]\n",
    "n_pos=[]\n",
    "last=0\n",
    "for b in pos:\n",
    "    last = max(abs(b),last)\n",
    "    if b>0:\n",
    "        p_pos.append(b)\n",
    "    else:\n",
    "        n_pos.append(abs(b))\n",
    "p_pos.sort(reverse = 1) \n",
    "n_pos.sort(reverse = 1)\n",
    "\n",
    "for i in range(0,len(p_pos),M):\n",
    "    answer += p_pos[i]*2\n",
    "\n",
    "for i in range(0,len(n_pos),M):\n",
    "    answer += n_pos[i]*2\n",
    "\n",
    "print(answer-last)"
   ]
  }
 ],
 "metadata": {
  "kernelspec": {
   "display_name": "ml",
   "language": "python",
   "name": "python3"
  },
  "language_info": {
   "codemirror_mode": {
    "name": "ipython",
    "version": 3
   },
   "file_extension": ".py",
   "mimetype": "text/x-python",
   "name": "python",
   "nbconvert_exporter": "python",
   "pygments_lexer": "ipython3",
   "version": "3.6.9"
  }
 },
 "nbformat": 4,
 "nbformat_minor": 2
}

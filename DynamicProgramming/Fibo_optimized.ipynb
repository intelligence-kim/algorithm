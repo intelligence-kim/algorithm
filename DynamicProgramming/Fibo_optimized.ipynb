{
 "cells": [
  {
   "cell_type": "code",
   "execution_count": 2,
   "metadata": {},
   "outputs": [
    {
     "name": "stdout",
     "output_type": "stream",
     "text": [
      "987\n",
      "53316291173\n",
      "146178119651438213260386312206974243796773058\n"
     ]
    }
   ],
   "source": [
    "def fib_optimized(n):\n",
    "    # 여기에 코드를 작성하세요\n",
    "    current = 1\n",
    "    previous = 1\n",
    "\n",
    "    for i in range(n-2):\n",
    "        current, previous = current+previous, current\n",
    "    return current\n",
    "\n",
    "\n",
    "# 테스트 코드\n",
    "print(fib_optimized(16))\n",
    "print(fib_optimized(53))\n",
    "print(fib_optimized(213))\n"
   ]
  },
  {
   "cell_type": "code",
   "execution_count": null,
   "metadata": {},
   "outputs": [],
   "source": []
  }
 ],
 "metadata": {
  "kernelspec": {
   "display_name": "bert",
   "language": "python",
   "name": "python3"
  },
  "language_info": {
   "codemirror_mode": {
    "name": "ipython",
    "version": 3
   },
   "file_extension": ".py",
   "mimetype": "text/x-python",
   "name": "python",
   "nbconvert_exporter": "python",
   "pygments_lexer": "ipython3",
   "version": "3.9.7"
  }
 },
 "nbformat": 4,
 "nbformat_minor": 2
}

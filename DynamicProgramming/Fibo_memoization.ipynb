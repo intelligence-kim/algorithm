{
 "cells": [
  {
   "cell_type": "code",
   "execution_count": 18,
   "metadata": {},
   "outputs": [
    {
     "name": "stdout",
     "output_type": "stream",
     "text": [
      "55\n",
      "12586269025\n",
      "354224848179261915075\n"
     ]
    }
   ],
   "source": [
    "def fib_memo(n, cache):\n",
    "    # base case\n",
    "    if n < 3:\n",
    "        return 1\n",
    "        \n",
    "    # 이미 n번째 피보나치를 계산했으면:\n",
    "    # 저장된 값을 바로 리턴한다\n",
    "    if n in cache:\n",
    "        return cache[n]\n",
    "    \n",
    "    # 아직 n번째 피보나치 수를 계산하지 않았으면:\n",
    "    # 계산을 한 후 cache에 저장\n",
    "    cache[n] = fib_memo(n - 1, cache) + fib_memo(n - 2, cache)\n",
    "\n",
    "    # 계산한 값을 리턴한다\n",
    "    return cache[n]\n",
    "\n",
    "def fib(n):\n",
    "    # n번째 피보나치 수를 담는 사전\n",
    "    fib_cache = {}\n",
    "\n",
    "    return fib_memo(n, fib_cache)\n",
    "\n",
    "# 테스트 코드\n",
    "print(fib(10))\n",
    "print(fib(50))\n",
    "print(fib(100))\n"
   ]
  },
  {
   "cell_type": "code",
   "execution_count": null,
   "metadata": {},
   "outputs": [],
   "source": []
  }
 ],
 "metadata": {
  "kernelspec": {
   "display_name": "bert",
   "language": "python",
   "name": "python3"
  },
  "language_info": {
   "codemirror_mode": {
    "name": "ipython",
    "version": 3
   },
   "file_extension": ".py",
   "mimetype": "text/x-python",
   "name": "python",
   "nbconvert_exporter": "python",
   "pygments_lexer": "ipython3",
   "version": "3.9.7"
  }
 },
 "nbformat": 4,
 "nbformat_minor": 2
}

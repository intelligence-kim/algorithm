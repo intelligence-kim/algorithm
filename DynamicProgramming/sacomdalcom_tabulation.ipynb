{
 "cells": [
  {
   "cell_type": "code",
   "execution_count": 38,
   "metadata": {},
   "outputs": [
    {
     "name": "stdout",
     "output_type": "stream",
     "text": [
      "2000\n",
      "2400\n",
      "1800\n"
     ]
    }
   ],
   "source": [
    "def max_profit(price_list, count):\n",
    "    # 여기에 코드를 작성하세요\n",
    "    cache=[]\n",
    "    profit=0\n",
    "    for i in range(count+1):\n",
    "        if i<len(price_list): cache.append(price_list[i])\n",
    "        else: cache.append(profit)\n",
    "        for j in range(1,i//2+1):\n",
    "            profit = max(cache[i],cache[j] + cache[i-j])\n",
    "        cache[i]=profit\n",
    "    return profit\n",
    "\n",
    "\n",
    "# 테스트 코드\n",
    "print(max_profit([0, 200, 600, 900, 1200, 2000], 5))\n",
    "print(max_profit([0, 300, 600, 700, 1100, 1400], 8))\n",
    "print(max_profit([0, 100, 200, 400, 600, 900, 1200, 1300, 1500, 1800], 9))\n"
   ]
  }
 ],
 "metadata": {
  "kernelspec": {
   "display_name": "bert",
   "language": "python",
   "name": "python3"
  },
  "language_info": {
   "codemirror_mode": {
    "name": "ipython",
    "version": 3
   },
   "file_extension": ".py",
   "mimetype": "text/x-python",
   "name": "python",
   "nbconvert_exporter": "python",
   "pygments_lexer": "ipython3",
   "version": "3.9.7"
  }
 },
 "nbformat": 4,
 "nbformat_minor": 2
}

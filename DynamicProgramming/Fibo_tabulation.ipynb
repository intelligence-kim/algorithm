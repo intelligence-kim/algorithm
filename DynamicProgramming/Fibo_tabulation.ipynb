{
 "cells": [
  {
   "cell_type": "code",
   "execution_count": 1,
   "metadata": {},
   "outputs": [
    {
     "name": "stdout",
     "output_type": "stream",
     "text": [
      "55\n",
      "225851433717\n",
      "1725375039079340637797070384\n"
     ]
    }
   ],
   "source": [
    "def fib_tab(n):\n",
    "    # 여기에 코드를 작성하세요\n",
    "    cache = [1,1]\n",
    "    if n<3: return 1\n",
    "    else:\n",
    "        for i in range(n-2):\n",
    "            cache.append(cache[i]+cache[i+1])\n",
    "        return cache[n-1]\n",
    "\n",
    "# 테스트 코드\n",
    "print(fib_tab(10))\n",
    "print(fib_tab(56))\n",
    "print(fib_tab(132))"
   ]
  },
  {
   "cell_type": "code",
   "execution_count": 2,
   "metadata": {},
   "outputs": [
    {
     "name": "stdout",
     "output_type": "stream",
     "text": [
      "55\n",
      "225851433717\n",
      "1725375039079340637797070384\n"
     ]
    }
   ],
   "source": [
    "def fib_tab(n):\n",
    "    # 이미 계산된 피보나치 수를 담는 리스트\n",
    "    fib_table = [0, 1, 1]\n",
    "\n",
    "    # n번째 피보나치 수까지 리스트를 하나씩 채워 나간다\n",
    "    for i in range(3, n + 1):\n",
    "        fib_table.append(fib_table[i - 1] + fib_table[i - 2])\n",
    "\n",
    "    # 피보나치 n번째 수를 리턴한다\n",
    "    return fib_table[n]\n",
    "\n",
    "# 테스트 코드\n",
    "print(fib_tab(10))\n",
    "print(fib_tab(56))\n",
    "print(fib_tab(132))\n"
   ]
  }
 ],
 "metadata": {
  "kernelspec": {
   "display_name": "bert",
   "language": "python",
   "name": "python3"
  },
  "language_info": {
   "codemirror_mode": {
    "name": "ipython",
    "version": 3
   },
   "file_extension": ".py",
   "mimetype": "text/x-python",
   "name": "python",
   "nbconvert_exporter": "python",
   "pygments_lexer": "ipython3",
   "version": "3.9.7"
  }
 },
 "nbformat": 4,
 "nbformat_minor": 2
}

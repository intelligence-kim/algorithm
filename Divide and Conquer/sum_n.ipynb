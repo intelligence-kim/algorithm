{
 "cells": [
  {
   "cell_type": "code",
   "execution_count": 13,
   "metadata": {},
   "outputs": [
    {
     "name": "stdout",
     "output_type": "stream",
     "text": [
      "55\n"
     ]
    }
   ],
   "source": [
    "def consecutive_sum(start, end):\n",
    "    if start == end : return start\n",
    "    mid = (start+end) // 2\n",
    "    return consecutive_sum(start,mid)+consecutive_sum(mid+1,end)\n",
    "# 테스트 코드\n",
    "print(consecutive_sum(1, 10))\n",
    "# print(consecutive_sum(1, 100))\n",
    "# print(consecutive_sum(1, 253))\n",
    "# print(consecutive_sum(1, 388))"
   ]
  },
  {
   "cell_type": "code",
   "execution_count": null,
   "metadata": {},
   "outputs": [],
   "source": []
  }
 ],
 "metadata": {
  "kernelspec": {
   "display_name": "bert",
   "language": "python",
   "name": "python3"
  },
  "language_info": {
   "codemirror_mode": {
    "name": "ipython",
    "version": 3
   },
   "file_extension": ".py",
   "mimetype": "text/x-python",
   "name": "python",
   "nbconvert_exporter": "python",
   "pygments_lexer": "ipython3",
   "version": "3.9.7"
  }
 },
 "nbformat": 4,
 "nbformat_minor": 2
}

{
 "cells": [
  {
   "cell_type": "code",
   "execution_count": 46,
   "metadata": {},
   "outputs": [
    {
     "name": "stdout",
     "output_type": "stream",
     "text": [
      "[1, 3, 5, 7, 9, 11, 13, 11]\n",
      "[1, 3, 5, 7]\n",
      "[1, 3]\n",
      "[5, 7]\n",
      "[9, 11, 13, 11]\n",
      "[9, 11]\n",
      "[13, 11]\n",
      "[1, 3, 5, 7, 9, 11, 11, 13]\n"
     ]
    }
   ],
   "source": [
    "def merge(list1, list2):\n",
    "    merge_list = []\n",
    "    n1 = 0 \n",
    "    n2=0\n",
    "    while n1<len(list1) and n2<len(list2):\n",
    "        if list1[n1]<list2[n2]: \n",
    "            merge_list.append(list1[n1])\n",
    "            n1+=1\n",
    "        else: \n",
    "            merge_list.append(list2[n2])\n",
    "            n2+=1\n",
    "    if n1<len(list1): merge_list.extend(list1[n1:])\n",
    "    elif n2<len(list2): merge_list.extend(list2[n2:])\n",
    "    return merge_list\n",
    "def merge_sort(my_list):\n",
    "    if len(my_list) < 2:\n",
    "        return my_list\n",
    "    left_half = my_list[:len(my_list)//2]    # 왼쪽 반\n",
    "    right_half = my_list[len(my_list)//2:]   # 오른쪽 반\n",
    "    print(my_list)\n",
    "    # merge_sort 함수를 재귀적으로 호출하여 부분 문제 해결(conquer)하고,\n",
    "    # merge 함수로 정렬된 두 리스트를 합쳐(combine)준다\n",
    "    return merge(merge_sort(left_half), merge_sort(right_half))\n",
    "# 테스트 코드\n",
    "# print(merge_sort([]))\n",
    "print(merge_sort([1, 3, 5, 7, 9, 11, 13, 11]))\n",
    "# print(merge_sort([28, 13, 9, 30, 1, 48, 5, 7, 15]))\n",
    "# print(merge_sort([2, 5, 6, 7, 1, 2, 4, 7, 10, 11, 4, 15, 13, 1, 6, 4]))\n"
   ]
  },
  {
   "cell_type": "code",
   "execution_count": 30,
   "metadata": {},
   "outputs": [],
   "source": [
    "a=[7, 5,5, 8, 9]\n",
    "b=[1, 3, 6, 10]\n"
   ]
  },
  {
   "cell_type": "markdown",
   "metadata": {},
   "source": []
  },
  {
   "cell_type": "code",
   "execution_count": 34,
   "metadata": {},
   "outputs": [
    {
     "data": {
      "text/plain": [
       "{5, 7, 8, 9}"
      ]
     },
     "execution_count": 34,
     "metadata": {},
     "output_type": "execute_result"
    }
   ],
   "source": [
    "set(sorted(a))"
   ]
  },
  {
   "cell_type": "code",
   "execution_count": null,
   "metadata": {},
   "outputs": [],
   "source": []
  }
 ],
 "metadata": {
  "kernelspec": {
   "display_name": "bert",
   "language": "python",
   "name": "python3"
  },
  "language_info": {
   "codemirror_mode": {
    "name": "ipython",
    "version": 3
   },
   "file_extension": ".py",
   "mimetype": "text/x-python",
   "name": "python",
   "nbconvert_exporter": "python",
   "pygments_lexer": "ipython3",
   "version": "3.9.7"
  }
 },
 "nbformat": 4,
 "nbformat_minor": 2
}

{
 "cells": [
  {
   "cell_type": "code",
   "execution_count": 17,
   "metadata": {},
   "outputs": [
    {
     "name": "stdout",
     "output_type": "stream",
     "text": [
      "[(2, 3), (3, 4)]\n"
     ]
    }
   ],
   "source": [
    "# 제곱근 사용을 위한 sqrt 함수\n",
    "from math import sqrt\n",
    "\n",
    "# 두 매장의 직선 거리를 계산해 주는 함수\n",
    "def distance(store1, store2):\n",
    "    return sqrt((store1[0] - store2[0]) ** 2 + (store1[1] - store2[1]) ** 2)\n",
    "\n",
    "# 가장 가까운 두 매장을 찾아주는 함수\n",
    "def closest_pair(coordinates):\n",
    "    min_distance = distance(coordinates[0],coordinates[1]) # 기본 거리 계산\n",
    "\n",
    "    # 각 리스트를 모두 들어가면서 확인\n",
    "    for i in range(len(coordinates)-1):\n",
    "        for j in range(i+1,len(coordinates)):\n",
    "            if min_distance > distance(coordinates[i],coordinates[j]):\n",
    "                min_distance = distance(coordinates[i],coordinates[j])\n",
    "                pair = [coordinates[i],coordinates[j]]\n",
    "\n",
    "    return pair\n",
    "\n",
    "# 테스트 코드\n",
    "test_coordinates = [(2, 3), (12, 30), (40, 50), (5, 1), (12, 10), (3, 4)]\n",
    "print(closest_pair(test_coordinates))"
   ]
  },
  {
   "cell_type": "code",
   "execution_count": 4,
   "metadata": {},
   "outputs": [],
   "source": [
    "a=[(2, 3), (12, 30), (40, 50), (5, 1), (12, 10), (3, 4)]"
   ]
  },
  {
   "cell_type": "code",
   "execution_count": 8,
   "metadata": {},
   "outputs": [
    {
     "data": {
      "text/plain": [
       "(5, 1)"
      ]
     },
     "execution_count": 8,
     "metadata": {},
     "output_type": "execute_result"
    }
   ],
   "source": [
    "a[3]"
   ]
  },
  {
   "cell_type": "code",
   "execution_count": null,
   "metadata": {},
   "outputs": [],
   "source": []
  }
 ],
 "metadata": {
  "kernelspec": {
   "display_name": "bert",
   "language": "python",
   "name": "python3"
  },
  "language_info": {
   "codemirror_mode": {
    "name": "ipython",
    "version": 3
   },
   "file_extension": ".py",
   "mimetype": "text/x-python",
   "name": "python",
   "nbconvert_exporter": "python",
   "pygments_lexer": "ipython3",
   "version": "3.9.7"
  }
 },
 "nbformat": 4,
 "nbformat_minor": 2
}

{
 "cells": [
  {
   "cell_type": "markdown",
   "metadata": {},
   "source": [
    "![nn](BruteForce/problem/문제1.png)"
   ]
  },
  {
   "cell_type": "code",
   "execution_count": 26,
   "metadata": {},
   "outputs": [
    {
     "name": "stdout",
     "output_type": "stream",
     "text": [
      "0 0 4 3\n",
      "0\n",
      "3 3 4 0\n",
      "3\n",
      "3 3 4 0\n",
      "6\n",
      "3 3 4 2\n",
      "7\n",
      "3 3 4 0\n",
      "10\n",
      "10\n",
      "0 0 3 1\n",
      "0\n",
      "1 1 3 0\n",
      "1\n",
      "1 1 3 2\n",
      "1\n",
      "2 2 3 1\n",
      "2\n",
      "2 2 3 0\n",
      "4\n",
      "2 2 3 1\n",
      "5\n",
      "2 2 3 3\n",
      "5\n",
      "2 3 2 2\n",
      "5\n",
      "2 3 2 1\n",
      "6\n",
      "2 3 2 2\n",
      "6\n",
      "6\n"
     ]
    }
   ],
   "source": [
    "def trapping_rain(buildings):\n",
    "    # 총 담기는 빗물의 양을 변수에 저장\n",
    "    total_height = 0\n",
    "\n",
    "    # 리스트의 각 인덱스을 돌면서 해당 칸에 담기는 빗물의 양을 구한다\n",
    "    # 0번 인덱스와 마지막 인덱스는 볼 필요 없다\n",
    "    for i in range(1, len(buildings) - 1):\n",
    "        # 현재 인덱스를 기준으로 양쪽에 가장 높은 건물의 위치를 구한다\n",
    "        max_left = max(buildings[:i])\n",
    "        max_right = max(buildings[i:])\n",
    "\n",
    "        # 현재 인덱스에 빗물이 담길 수 있는 높이\n",
    "        upper_bound = min(max_left, max_right)\n",
    "        # 현재 인덱스에 담기는 빗물의 양을 계산\n",
    "        # 만약 upper_bound가 현재 인덱스 건물보다 높지 않다면, 현재 인덱스에 담기는 빗물은 0\n",
    "        total_height += max(0, upper_bound - buildings[i])\n",
    "\n",
    "    return total_height\n",
    "\n",
    "# 테스트 코드\n",
    "print(trapping_rain([0, 3, 0, 0, 2, 0, 4]))\n",
    "print(trapping_rain([0, 1, 0, 2, 1, 0, 1, 3, 2, 1, 2, 1]))\n",
    "\n",
    "            \n"
   ]
  },
  {
   "cell_type": "code",
   "execution_count": null,
   "metadata": {},
   "outputs": [],
   "source": []
  }
 ],
 "metadata": {
  "kernelspec": {
   "display_name": "bert",
   "language": "python",
   "name": "python3"
  },
  "language_info": {
   "codemirror_mode": {
    "name": "ipython",
    "version": 3
   },
   "file_extension": ".py",
   "mimetype": "text/x-python",
   "name": "python",
   "nbconvert_exporter": "python",
   "pygments_lexer": "ipython3",
   "version": "3.9.7"
  }
 },
 "nbformat": 4,
 "nbformat_minor": 2
}
